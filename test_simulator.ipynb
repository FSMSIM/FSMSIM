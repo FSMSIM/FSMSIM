{
 "cells": [
  {
   "cell_type": "code",
   "execution_count": 1,
   "id": "e0010596",
   "metadata": {},
   "outputs": [],
   "source": [
    "from FSMSIM import *\n",
    "from FSMSIM.expr import *"
   ]
  },
  {
   "cell_type": "markdown",
   "id": "345b56f2",
   "metadata": {},
   "source": [
    "```\n",
    "module HalfAdder {\n",
    "    input a, b;\n",
    "    output sum = \"0\";\n",
    "    output carry_out = \"0\";\n",
    "\n",
    "    initial state S0 {\n",
    "        <- a == \"0\" && b == \"0\";\n",
    "    }\n",
    "    state S1 {\n",
    "        <- a == \"1\" && b == \"0\";\n",
    "        <- a == \"0\" && b == \"1\";\n",
    "        sum = \"1\";\n",
    "    }\n",
    "    state S2 {\n",
    "        <- a == \"1\" && b == \"1\";\n",
    "        carry_out = \"1\";\n",
    "    }\n",
    "}\n",
    "```"
   ]
  },
  {
   "cell_type": "code",
   "execution_count": 2,
   "id": "db4257dc",
   "metadata": {},
   "outputs": [],
   "source": [
    "HalfAdder = Module()\n",
    "# inputs\n",
    "HalfAdder.define_input(\"a\", 1)\n",
    "HalfAdder.define_input(\"b\", 1)\n",
    "# state names\n",
    "HalfAdder.define_state(\"S0\")\n",
    "HalfAdder.define_initial_state(\"S0\")\n",
    "HalfAdder.define_state(\"S1\")\n",
    "HalfAdder.define_state(\"S2\")\n",
    "# outputs\n",
    "HalfAdder.define_output(\"sum\", 1, StringExpr(\"0\"))\n",
    "HalfAdder.define_output(\"carry_out\", 1, StringExpr(\"0\"))\n",
    "# S0\n",
    "HalfAdder.default_state.define_transition(AndExpr(\n",
    "    EqExpr(HalfAdder.inputs[\"a\"], StringExpr(\"0\")),\n",
    "    EqExpr(HalfAdder.inputs[\"b\"], StringExpr(\"0\"))\n",
    "), \"S0\")\n",
    "# S1\n",
    "HalfAdder.default_state.define_transition(AndExpr(\n",
    "    EqExpr(HalfAdder.inputs[\"a\"], StringExpr(\"1\")),\n",
    "    EqExpr(HalfAdder.inputs[\"b\"], StringExpr(\"0\"))\n",
    "), \"S1\")\n",
    "HalfAdder.default_state.define_transition(AndExpr(\n",
    "    EqExpr(HalfAdder.inputs[\"a\"], StringExpr(\"0\")),\n",
    "    EqExpr(HalfAdder.inputs[\"b\"], StringExpr(\"1\"))\n",
    "), \"S1\")\n",
    "HalfAdder.states[\"S1\"].define_output(\"sum\", StringExpr(\"1\"))\n",
    "# S2\n",
    "HalfAdder.default_state.define_transition(AndExpr(\n",
    "    EqExpr(HalfAdder.inputs[\"a\"], StringExpr(\"1\")),\n",
    "    EqExpr(HalfAdder.inputs[\"b\"], StringExpr(\"1\"))\n",
    "), \"S2\")\n",
    "HalfAdder.states[\"S2\"].define_output(\"carry_out\", StringExpr(\"1\"))"
   ]
  },
  {
   "cell_type": "code",
   "execution_count": 3,
   "id": "6056df37",
   "metadata": {},
   "outputs": [
    {
     "data": {
      "text/plain": [
       "(1, 0)"
      ]
     },
     "execution_count": 3,
     "metadata": {},
     "output_type": "execute_result"
    }
   ],
   "source": [
    "ha = HalfAdder.init()\n",
    "ha.inputs[\"a\"].set(\"1\")\n",
    "ha.tick()\n",
    "ha.outputs[\"sum\"], ha.outputs[\"carry_out\"] # using __repl__"
   ]
  },
  {
   "cell_type": "code",
   "execution_count": 4,
   "id": "31e1c7bb",
   "metadata": {},
   "outputs": [
    {
     "data": {
      "text/plain": [
       "('0', '1')"
      ]
     },
     "execution_count": 4,
     "metadata": {},
     "output_type": "execute_result"
    }
   ],
   "source": [
    "ha.inputs[\"b\"].set(\"1\")\n",
    "ha.tick()\n",
    "ha.outputs[\"sum\"].evaluate(), ha.outputs[\"carry_out\"].evaluate()"
   ]
  },
  {
   "cell_type": "code",
   "execution_count": 5,
   "id": "bf9cde11",
   "metadata": {},
   "outputs": [
    {
     "data": {
      "text/plain": [
       "('0', '0')"
      ]
     },
     "execution_count": 5,
     "metadata": {},
     "output_type": "execute_result"
    }
   ],
   "source": [
    "ha.inputs[\"a\"].set(\"0\")\n",
    "ha.inputs[\"b\"].set(\"0\")\n",
    "ha.tick()\n",
    "ha.outputs[\"sum\"].evaluate(), ha.outputs[\"carry_out\"].evaluate()"
   ]
  },
  {
   "cell_type": "markdown",
   "id": "cdc8d09a",
   "metadata": {},
   "source": [
    "```\n",
    "module OrGate {\n",
    "    input a, b;\n",
    "    output out = \"0\";\n",
    "    \n",
    "    initial state S0 {\n",
    "        <-;\n",
    "    }\n",
    "    state S1 {\n",
    "        <- a == \"1\" || b == \"1\";\n",
    "        out = \"1\";\n",
    "    }\n",
    "}\n",
    "```"
   ]
  },
  {
   "cell_type": "code",
   "execution_count": 6,
   "id": "9edd3457",
   "metadata": {},
   "outputs": [],
   "source": [
    "OrGate = Module()\n",
    "# inputs\n",
    "OrGate.define_input(\"a\", 1)\n",
    "OrGate.define_input(\"b\", 1)\n",
    "# state names\n",
    "OrGate.define_state(\"S0\")\n",
    "OrGate.define_initial_state(\"S0\")\n",
    "OrGate.define_state(\"S1\")\n",
    "# outputs\n",
    "OrGate.define_output(\"out\", 1, StringExpr(\"0\"))\n",
    "# S0\n",
    "OrGate.default_state.define_transition(BoolExpr(True), \"S0\") # This rule will be shadowed by S1's rule\n",
    "# S1\n",
    "OrGate.default_state.define_transition(OrExpr(\n",
    "    EqExpr(OrGate.inputs[\"a\"], StringExpr(\"1\")),\n",
    "    EqExpr(OrGate.inputs[\"b\"], StringExpr(\"1\"))\n",
    "), \"S1\")\n",
    "OrGate.states[\"S1\"].define_output(\"out\", StringExpr(\"1\"))"
   ]
  },
  {
   "cell_type": "markdown",
   "id": "f59243b7",
   "metadata": {},
   "source": [
    "```\n",
    "module FullAdder(3) {\n",
    "    input a, b, carry_in;\n",
    "    output sum, carry_out;\n",
    "\n",
    "    HalfAdder ha[2];\n",
    "    OrGate or;\n",
    "\n",
    "    ha[0].a = a;\n",
    "    ha[0].b = b;\n",
    "    ha[1].a = carry_in;\n",
    "    ha[1].b = ha[0].sum;\n",
    "    or.a = ha[0].carry_out;\n",
    "    or.b = ha[1].carry_out;\n",
    "\n",
    "    sum = ha[1].sum;\n",
    "    carry_out = or.out;\n",
    "}\n",
    "```"
   ]
  },
  {
   "cell_type": "code",
   "execution_count": 7,
   "id": "352879ed",
   "metadata": {},
   "outputs": [
    {
     "ename": "TypeError",
     "evalue": "object of type 'OutputExpr' has no len()",
     "output_type": "error",
     "traceback": [
      "\u001b[0;31m---------------------------------------------------------------------------\u001b[0m",
      "\u001b[0;31mTypeError\u001b[0m                                 Traceback (most recent call last)",
      "\u001b[0;32m<ipython-input-7-f08938559acb>\u001b[0m in \u001b[0;36m<module>\u001b[0;34m\u001b[0m\n\u001b[1;32m     16\u001b[0m \u001b[0mFullAdder\u001b[0m\u001b[0;34m.\u001b[0m\u001b[0mchildren\u001b[0m\u001b[0;34m[\u001b[0m\u001b[0;34m\"or\"\u001b[0m\u001b[0;34m]\u001b[0m\u001b[0;34m.\u001b[0m\u001b[0minputs\u001b[0m\u001b[0;34m[\u001b[0m\u001b[0;34m\"b\"\u001b[0m\u001b[0;34m]\u001b[0m\u001b[0;34m.\u001b[0m\u001b[0mset\u001b[0m\u001b[0;34m(\u001b[0m\u001b[0mFullAdder\u001b[0m\u001b[0;34m.\u001b[0m\u001b[0mchildren\u001b[0m\u001b[0;34m[\u001b[0m\u001b[0;34m\"ha\"\u001b[0m\u001b[0;34m]\u001b[0m\u001b[0;34m[\u001b[0m\u001b[0;36m1\u001b[0m\u001b[0;34m]\u001b[0m\u001b[0;34m.\u001b[0m\u001b[0moutputs\u001b[0m\u001b[0;34m[\u001b[0m\u001b[0;34m\"carry_out\"\u001b[0m\u001b[0;34m]\u001b[0m\u001b[0;34m)\u001b[0m\u001b[0;34m\u001b[0m\u001b[0;34m\u001b[0m\u001b[0m\n\u001b[1;32m     17\u001b[0m \u001b[0;31m# outputs\u001b[0m\u001b[0;34m\u001b[0m\u001b[0;34m\u001b[0m\u001b[0;34m\u001b[0m\u001b[0m\n\u001b[0;32m---> 18\u001b[0;31m \u001b[0mFullAdder\u001b[0m\u001b[0;34m.\u001b[0m\u001b[0mdefine_output\u001b[0m\u001b[0;34m(\u001b[0m\u001b[0;34m\"sum\"\u001b[0m\u001b[0;34m,\u001b[0m \u001b[0;36m1\u001b[0m\u001b[0;34m,\u001b[0m \u001b[0mFullAdder\u001b[0m\u001b[0;34m.\u001b[0m\u001b[0mchildren\u001b[0m\u001b[0;34m[\u001b[0m\u001b[0;34m\"ha\"\u001b[0m\u001b[0;34m]\u001b[0m\u001b[0;34m[\u001b[0m\u001b[0;36m1\u001b[0m\u001b[0;34m]\u001b[0m\u001b[0;34m.\u001b[0m\u001b[0moutputs\u001b[0m\u001b[0;34m[\u001b[0m\u001b[0;34m\"sum\"\u001b[0m\u001b[0;34m]\u001b[0m\u001b[0;34m)\u001b[0m\u001b[0;34m\u001b[0m\u001b[0;34m\u001b[0m\u001b[0m\n\u001b[0m\u001b[1;32m     19\u001b[0m \u001b[0mFullAdder\u001b[0m\u001b[0;34m.\u001b[0m\u001b[0mdefine_output\u001b[0m\u001b[0;34m(\u001b[0m\u001b[0;34m\"carry_out\"\u001b[0m\u001b[0;34m,\u001b[0m \u001b[0;36m1\u001b[0m\u001b[0;34m,\u001b[0m \u001b[0mFullAdder\u001b[0m\u001b[0;34m.\u001b[0m\u001b[0mchildren\u001b[0m\u001b[0;34m[\u001b[0m\u001b[0;34m\"or\"\u001b[0m\u001b[0;34m]\u001b[0m\u001b[0;34m.\u001b[0m\u001b[0moutputs\u001b[0m\u001b[0;34m[\u001b[0m\u001b[0;34m\"out\"\u001b[0m\u001b[0;34m]\u001b[0m\u001b[0;34m)\u001b[0m\u001b[0;34m\u001b[0m\u001b[0;34m\u001b[0m\u001b[0m\n",
      "\u001b[0;32m~/Developer/cs263/proj/FSMSIM/FSMSIM/module.py\u001b[0m in \u001b[0;36mdefine_output\u001b[0;34m(self, name, length, value)\u001b[0m\n\u001b[1;32m     34\u001b[0m         \u001b[0mvalue\u001b[0m \u001b[0;34m=\u001b[0m \u001b[0mVarExpr\u001b[0m\u001b[0;34m(\u001b[0m\u001b[0mlength\u001b[0m\u001b[0;34m)\u001b[0m \u001b[0;32mif\u001b[0m \u001b[0mvalue\u001b[0m \u001b[0;32mis\u001b[0m \u001b[0;32mNone\u001b[0m \u001b[0;32melse\u001b[0m \u001b[0mvalue\u001b[0m\u001b[0;34m\u001b[0m\u001b[0;34m\u001b[0m\u001b[0m\n\u001b[1;32m     35\u001b[0m         \u001b[0mself\u001b[0m\u001b[0;34m.\u001b[0m\u001b[0mdefault_state\u001b[0m\u001b[0;34m.\u001b[0m\u001b[0mlengths\u001b[0m\u001b[0;34m[\u001b[0m\u001b[0mname\u001b[0m\u001b[0;34m]\u001b[0m \u001b[0;34m=\u001b[0m \u001b[0mlength\u001b[0m\u001b[0;34m\u001b[0m\u001b[0;34m\u001b[0m\u001b[0m\n\u001b[0;32m---> 36\u001b[0;31m         \u001b[0mself\u001b[0m\u001b[0;34m.\u001b[0m\u001b[0mdefault_state\u001b[0m\u001b[0;34m.\u001b[0m\u001b[0mdefine_output\u001b[0m\u001b[0;34m(\u001b[0m\u001b[0mname\u001b[0m\u001b[0;34m,\u001b[0m \u001b[0mvalue\u001b[0m\u001b[0;34m)\u001b[0m\u001b[0;34m\u001b[0m\u001b[0;34m\u001b[0m\u001b[0m\n\u001b[0m\u001b[1;32m     37\u001b[0m         \u001b[0mself\u001b[0m\u001b[0;34m.\u001b[0m\u001b[0moutputs\u001b[0m\u001b[0;34m[\u001b[0m\u001b[0mname\u001b[0m\u001b[0;34m]\u001b[0m \u001b[0;34m=\u001b[0m \u001b[0mOutputExpr\u001b[0m\u001b[0;34m(\u001b[0m\u001b[0mself\u001b[0m\u001b[0;34m,\u001b[0m \u001b[0mname\u001b[0m\u001b[0;34m)\u001b[0m\u001b[0;34m\u001b[0m\u001b[0;34m\u001b[0m\u001b[0m\n\u001b[1;32m     38\u001b[0m \u001b[0;34m\u001b[0m\u001b[0m\n",
      "\u001b[0;32m~/Developer/cs263/proj/FSMSIM/FSMSIM/state.py\u001b[0m in \u001b[0;36mdefine_output\u001b[0;34m(self, name, output)\u001b[0m\n\u001b[1;32m     13\u001b[0m     \u001b[0;32mdef\u001b[0m \u001b[0mdefine_output\u001b[0m\u001b[0;34m(\u001b[0m\u001b[0mself\u001b[0m\u001b[0;34m,\u001b[0m \u001b[0mname\u001b[0m\u001b[0;34m:\u001b[0m \u001b[0mstr\u001b[0m\u001b[0;34m,\u001b[0m \u001b[0moutput\u001b[0m\u001b[0;34m:\u001b[0m \u001b[0mExpr\u001b[0m\u001b[0;34m)\u001b[0m\u001b[0;34m:\u001b[0m\u001b[0;34m\u001b[0m\u001b[0;34m\u001b[0m\u001b[0m\n\u001b[1;32m     14\u001b[0m         \u001b[0mlengths\u001b[0m \u001b[0;34m=\u001b[0m \u001b[0mself\u001b[0m\u001b[0;34m.\u001b[0m\u001b[0mlengths\u001b[0m \u001b[0;32mif\u001b[0m \u001b[0mself\u001b[0m\u001b[0;34m.\u001b[0m\u001b[0mdefaults\u001b[0m \u001b[0;32mis\u001b[0m \u001b[0;32mNone\u001b[0m \u001b[0;32melse\u001b[0m \u001b[0mself\u001b[0m\u001b[0;34m.\u001b[0m\u001b[0mdefaults\u001b[0m\u001b[0;34m.\u001b[0m\u001b[0mlengths\u001b[0m\u001b[0;34m\u001b[0m\u001b[0;34m\u001b[0m\u001b[0m\n\u001b[0;32m---> 15\u001b[0;31m         \u001b[0;32massert\u001b[0m\u001b[0;34m(\u001b[0m\u001b[0mlen\u001b[0m\u001b[0;34m(\u001b[0m\u001b[0moutput\u001b[0m\u001b[0;34m)\u001b[0m \u001b[0;34m==\u001b[0m \u001b[0mlengths\u001b[0m\u001b[0;34m[\u001b[0m\u001b[0mname\u001b[0m\u001b[0;34m]\u001b[0m\u001b[0;34m)\u001b[0m\u001b[0;34m\u001b[0m\u001b[0;34m\u001b[0m\u001b[0m\n\u001b[0m\u001b[1;32m     16\u001b[0m         \u001b[0mself\u001b[0m\u001b[0;34m.\u001b[0m\u001b[0moutputs\u001b[0m\u001b[0;34m[\u001b[0m\u001b[0mname\u001b[0m\u001b[0;34m]\u001b[0m \u001b[0;34m=\u001b[0m \u001b[0moutput\u001b[0m\u001b[0;34m\u001b[0m\u001b[0;34m\u001b[0m\u001b[0m\n\u001b[1;32m     17\u001b[0m \u001b[0;34m\u001b[0m\u001b[0m\n",
      "\u001b[0;31mTypeError\u001b[0m: object of type 'OutputExpr' has no len()"
     ]
    }
   ],
   "source": [
    "FullAdder = Module()\n",
    "FullAdder.define_clock_cycles(3)\n",
    "# inputs\n",
    "FullAdder.define_input(\"a\", 1)\n",
    "FullAdder.define_input(\"b\", 1)\n",
    "FullAdder.define_input(\"carry_in\", 1)\n",
    "# children\n",
    "FullAdder.children[\"ha\"] = [HalfAdder.init(), HalfAdder.init()]\n",
    "FullAdder.children[\"or\"] = OrGate.init()\n",
    "# wiring up children\n",
    "FullAdder.children[\"ha\"][0].inputs[\"a\"].set(FullAdder.inputs[\"a\"])\n",
    "FullAdder.children[\"ha\"][0].inputs[\"b\"].set(FullAdder.inputs[\"b\"])\n",
    "FullAdder.children[\"ha\"][1].inputs[\"a\"].set(FullAdder.inputs[\"carry_in\"])\n",
    "FullAdder.children[\"ha\"][1].inputs[\"b\"].set(FullAdder.children[\"ha\"][0].outputs[\"sum\"])\n",
    "FullAdder.children[\"or\"].inputs[\"a\"].set(FullAdder.children[\"ha\"][0].outputs[\"carry_out\"])\n",
    "FullAdder.children[\"or\"].inputs[\"b\"].set(FullAdder.children[\"ha\"][1].outputs[\"carry_out\"])\n",
    "# outputs\n",
    "FullAdder.define_output(\"sum\", 1, FullAdder.children[\"ha\"][1].outputs[\"sum\"])\n",
    "FullAdder.define_output(\"carry_out\", 1, FullAdder.children[\"or\"].outputs[\"out\"])"
   ]
  },
  {
   "cell_type": "code",
   "execution_count": null,
   "id": "d221faf6",
   "metadata": {},
   "outputs": [],
   "source": [
    "fa = FullAdder.init()\n",
    "fa.outputs[\"sum\"].evaluate(), fa.outputs[\"carry_out\"].evaluate()"
   ]
  },
  {
   "cell_type": "code",
   "execution_count": null,
   "id": "cdc02f37",
   "metadata": {},
   "outputs": [],
   "source": [
    "fa.inputs[\"a\"].set(\"1\")\n",
    "fa.tick()\n",
    "fa.outputs[\"sum\"].evaluate(), fa.outputs[\"carry_out\"].evaluate()"
   ]
  },
  {
   "cell_type": "code",
   "execution_count": null,
   "id": "22c9b2c9",
   "metadata": {},
   "outputs": [],
   "source": [
    "fa.inputs[\"b\"].set(\"1\")\n",
    "fa.tick()\n",
    "fa.outputs[\"sum\"].evaluate(), fa.outputs[\"carry_out\"].evaluate()"
   ]
  },
  {
   "cell_type": "code",
   "execution_count": null,
   "id": "d871543d",
   "metadata": {},
   "outputs": [],
   "source": [
    "fa.inputs[\"carry_in\"].set(\"1\")\n",
    "fa.tick()\n",
    "fa.outputs[\"sum\"].evaluate(), fa.outputs[\"carry_out\"].evaluate()"
   ]
  },
  {
   "cell_type": "code",
   "execution_count": null,
   "id": "33aa1a47",
   "metadata": {},
   "outputs": [],
   "source": []
  }
 ],
 "metadata": {
  "kernelspec": {
   "display_name": "Python 3",
   "language": "python",
   "name": "python3"
  },
  "language_info": {
   "codemirror_mode": {
    "name": "ipython",
    "version": 3
   },
   "file_extension": ".py",
   "mimetype": "text/x-python",
   "name": "python",
   "nbconvert_exporter": "python",
   "pygments_lexer": "ipython3",
   "version": "3.8.8"
  }
 },
 "nbformat": 4,
 "nbformat_minor": 5
}
