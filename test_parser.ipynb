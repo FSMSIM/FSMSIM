{
 "cells": [
  {
   "cell_type": "code",
   "execution_count": 1,
   "id": "0167c2b6",
   "metadata": {},
   "outputs": [],
   "source": [
    "from FSMSIM import *"
   ]
  },
  {
   "cell_type": "code",
   "execution_count": 2,
   "id": "8897c619",
   "metadata": {},
   "outputs": [],
   "source": [
    "loader = ModuleLoader()"
   ]
  },
  {
   "cell_type": "code",
   "execution_count": 3,
   "id": "3cc5808b",
   "metadata": {},
   "outputs": [
    {
     "name": "stdout",
     "output_type": "stream",
     "text": [
      "ANTLR runtime and generated code versions disagree: 4.9.3!=4.8\n",
      "ANTLR runtime and generated code versions disagree: 4.9.3!=4.8\n"
     ]
    }
   ],
   "source": [
    "loader.load(\"example.txt\")"
   ]
  },
  {
   "cell_type": "code",
   "execution_count": 4,
   "id": "0548b994",
   "metadata": {},
   "outputs": [],
   "source": [
    "ha = loader.modules[\"HalfAdder\"].init()"
   ]
  },
  {
   "cell_type": "code",
   "execution_count": 5,
   "id": "c274e1c3",
   "metadata": {},
   "outputs": [
    {
     "data": {
      "text/plain": [
       "('1', '0')"
      ]
     },
     "execution_count": 5,
     "metadata": {},
     "output_type": "execute_result"
    }
   ],
   "source": [
    "ha.inputs[\"a\"].set(\"1\")\n",
    "ha.tick()\n",
    "ha.outputs[\"sum\"].evaluate(), ha.outputs[\"carry_out\"].evaluate()"
   ]
  },
  {
   "cell_type": "code",
   "execution_count": 6,
   "id": "a4dfacde",
   "metadata": {},
   "outputs": [
    {
     "data": {
      "text/plain": [
       "('0', '1')"
      ]
     },
     "execution_count": 6,
     "metadata": {},
     "output_type": "execute_result"
    }
   ],
   "source": [
    "ha.inputs[\"b\"].set(\"1\")\n",
    "ha.tick()\n",
    "ha.outputs[\"sum\"].evaluate(), ha.outputs[\"carry_out\"].evaluate()"
   ]
  },
  {
   "cell_type": "code",
   "execution_count": 7,
   "id": "86d24818",
   "metadata": {},
   "outputs": [
    {
     "data": {
      "text/plain": [
       "('0', '0')"
      ]
     },
     "execution_count": 7,
     "metadata": {},
     "output_type": "execute_result"
    }
   ],
   "source": [
    "ha.inputs[\"a\"].set(\"0\")\n",
    "ha.inputs[\"b\"].set(\"0\")\n",
    "ha.tick()\n",
    "ha.outputs[\"sum\"].evaluate(), ha.outputs[\"carry_out\"].evaluate()"
   ]
  },
  {
   "cell_type": "code",
   "execution_count": 8,
   "id": "f2576a96",
   "metadata": {},
   "outputs": [],
   "source": [
    "ct2 = loader.modules[\"Counter2\"].init()"
   ]
  },
  {
   "cell_type": "code",
   "execution_count": 9,
   "id": "c05acf69",
   "metadata": {},
   "outputs": [
    {
     "name": "stdout",
     "output_type": "stream",
     "text": [
      "0\n",
      "1\n",
      "0\n",
      "1\n",
      "0\n"
     ]
    }
   ],
   "source": [
    "ct2.inputs[\"i\"].set(\"1\")\n",
    "for i in range(5):\n",
    "    ct2.tick()\n",
    "    print(ct2.outputs[\"o\"].evaluate())"
   ]
  },
  {
   "cell_type": "code",
   "execution_count": 10,
   "id": "38a783a9",
   "metadata": {},
   "outputs": [
    {
     "data": {
      "text/plain": [
       "'0'"
      ]
     },
     "execution_count": 10,
     "metadata": {},
     "output_type": "execute_result"
    }
   ],
   "source": [
    "m21 = loader.modules[\"Mux2to1\"].init()\n",
    "m21.inputs[\"i\"].set(\"01\")\n",
    "m21.tick()\n",
    "m21.outputs[\"o\"].evaluate()"
   ]
  },
  {
   "cell_type": "code",
   "execution_count": 11,
   "id": "1a7193d3",
   "metadata": {},
   "outputs": [
    {
     "data": {
      "text/plain": [
       "'1'"
      ]
     },
     "execution_count": 11,
     "metadata": {},
     "output_type": "execute_result"
    }
   ],
   "source": [
    "m21.inputs[\"s\"].set(\"1\")\n",
    "m21.tick()\n",
    "m21.outputs[\"o\"].evaluate()"
   ]
  },
  {
   "cell_type": "code",
   "execution_count": 12,
   "id": "68805fc4",
   "metadata": {},
   "outputs": [],
   "source": [
    "text = \"\"\"\n",
    "for i in [1, 6, 1] {\n",
    "    fa[i].a = a[i];\n",
    "    fa[i].b = b[1];\n",
    "}\n",
    "for j in [1, 6, 1] {\n",
    "    fa[j].carry_in = fa[j - 1].carry_out;\n",
    "}\n",
    "for x in [1, 3, 1] {\n",
    "    for y in [1, 3, 1] {\n",
    "        fa[x*2+y] = ha[x*2+y]\n",
    "    }\n",
    "}\n",
    "\"\"\""
   ]
  },
  {
   "cell_type": "code",
   "execution_count": 13,
   "id": "55a28a34",
   "metadata": {},
   "outputs": [
    {
     "name": "stdout",
     "output_type": "stream",
     "text": [
      "\n",
      "$i = 1;\n",
      "    fa[i].a = a[i];\n",
      "    fa[i].b = b[1];\n",
      "$i = 2;\n",
      "    fa[i].a = a[i];\n",
      "    fa[i].b = b[1];\n",
      "$i = 3;\n",
      "    fa[i].a = a[i];\n",
      "    fa[i].b = b[1];\n",
      "$i = 4;\n",
      "    fa[i].a = a[i];\n",
      "    fa[i].b = b[1];\n",
      "$i = 5;\n",
      "    fa[i].a = a[i];\n",
      "    fa[i].b = b[1];\n",
      "\n",
      "$j = 1;\n",
      "    fa[j].carry_in = fa[j - 1].carry_out;\n",
      "$j = 2;\n",
      "    fa[j].carry_in = fa[j - 1].carry_out;\n",
      "$j = 3;\n",
      "    fa[j].carry_in = fa[j - 1].carry_out;\n",
      "$j = 4;\n",
      "    fa[j].carry_in = fa[j - 1].carry_out;\n",
      "$j = 5;\n",
      "    fa[j].carry_in = fa[j - 1].carry_out;\n",
      "\n",
      "$x = 1;\n",
      "    $y = 1;\n",
      "        fa[x*2+y] = ha[x*2+y]\n",
      "    $y = 2;\n",
      "        fa[x*2+y] = ha[x*2+y]\n",
      "    \n",
      "$x = 2;\n",
      "    $y = 1;\n",
      "        fa[x*2+y] = ha[x*2+y]\n",
      "    $y = 2;\n",
      "        fa[x*2+y] = ha[x*2+y]\n",
      "    \n",
      "\n",
      "\n"
     ]
    }
   ],
   "source": [
    "print(loader.rewrite(text))"
   ]
  },
  {
   "cell_type": "code",
   "execution_count": 14,
   "id": "707fa570",
   "metadata": {},
   "outputs": [
    {
     "name": "stdout",
     "output_type": "stream",
     "text": [
      "ANTLR runtime and generated code versions disagree: 4.9.3!=4.8\n",
      "ANTLR runtime and generated code versions disagree: 4.9.3!=4.8\n"
     ]
    }
   ],
   "source": [
    "loader.load(\"example2.txt\")"
   ]
  },
  {
   "cell_type": "code",
   "execution_count": 15,
   "id": "83221529",
   "metadata": {},
   "outputs": [
    {
     "data": {
      "text/plain": [
       "('1', '0')"
      ]
     },
     "execution_count": 15,
     "metadata": {},
     "output_type": "execute_result"
    }
   ],
   "source": [
    "fa = loader.modules[\"FullAdder\"].init()\n",
    "fa.inputs[\"a\"].set(\"1\")\n",
    "fa.tick()\n",
    "fa.outputs[\"sum\"].evaluate(), fa.outputs[\"carry_out\"].evaluate()"
   ]
  },
  {
   "cell_type": "code",
   "execution_count": 16,
   "id": "02f4b112",
   "metadata": {},
   "outputs": [
    {
     "data": {
      "text/plain": [
       "('0', '1')"
      ]
     },
     "execution_count": 16,
     "metadata": {},
     "output_type": "execute_result"
    }
   ],
   "source": [
    "fa.inputs[\"b\"].set(\"1\")\n",
    "fa.tick()\n",
    "fa.outputs[\"sum\"].evaluate(), fa.outputs[\"carry_out\"].evaluate()"
   ]
  },
  {
   "cell_type": "code",
   "execution_count": 17,
   "id": "4cb89778",
   "metadata": {},
   "outputs": [
    {
     "data": {
      "text/plain": [
       "('1', '1')"
      ]
     },
     "execution_count": 17,
     "metadata": {},
     "output_type": "execute_result"
    }
   ],
   "source": [
    "fa.inputs[\"carry_in\"].set(\"1\")\n",
    "fa.tick()\n",
    "fa.outputs[\"sum\"].evaluate(), fa.outputs[\"carry_out\"].evaluate()"
   ]
  },
  {
   "cell_type": "code",
   "execution_count": 18,
   "id": "7ee14187",
   "metadata": {},
   "outputs": [
    {
     "data": {
      "text/plain": [
       "'00000000000000000000000000010000'"
      ]
     },
     "execution_count": 18,
     "metadata": {},
     "output_type": "execute_result"
    }
   ],
   "source": [
    "a = \"111\" + \"0\"*29\n",
    "b = \"1\" + \"0\"*31\n",
    "adder = loader.modules[\"Adder32\"].init()\n",
    "adder.inputs[\"a\"].set(a)\n",
    "adder.inputs[\"b\"].set(b)\n",
    "adder.tick()\n",
    "adder.outputs[\"sum\"].evaluate()[::-1]"
   ]
  },
  {
   "cell_type": "code",
   "execution_count": null,
   "id": "53935024",
   "metadata": {},
   "outputs": [],
   "source": []
  }
 ],
 "metadata": {
  "kernelspec": {
   "display_name": "Python 3",
   "language": "python",
   "name": "python3"
  },
  "language_info": {
   "codemirror_mode": {
    "name": "ipython",
    "version": 3
   },
   "file_extension": ".py",
   "mimetype": "text/x-python",
   "name": "python",
   "nbconvert_exporter": "python",
   "pygments_lexer": "ipython3",
   "version": "3.8.8"
  }
 },
 "nbformat": 4,
 "nbformat_minor": 5
}
