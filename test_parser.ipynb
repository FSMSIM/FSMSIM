{
 "cells": [
  {
   "cell_type": "code",
   "execution_count": 1,
   "id": "0167c2b6",
   "metadata": {},
   "outputs": [],
   "source": [
    "from FSMSIM import *"
   ]
  },
  {
   "cell_type": "code",
   "execution_count": 2,
   "id": "8897c619",
   "metadata": {},
   "outputs": [],
   "source": [
    "loader = ModuleLoader()"
   ]
  },
  {
   "cell_type": "code",
   "execution_count": 3,
   "id": "3cc5808b",
   "metadata": {},
   "outputs": [
    {
     "name": "stdout",
     "output_type": "stream",
     "text": [
      "ANTLR runtime and generated code versions disagree: 4.9.3!=4.8\n",
      "ANTLR runtime and generated code versions disagree: 4.9.3!=4.8\n"
     ]
    }
   ],
   "source": [
    "loader.load(\"example.txt\")"
   ]
  },
  {
   "cell_type": "code",
   "execution_count": 4,
   "id": "0548b994",
   "metadata": {},
   "outputs": [],
   "source": [
    "ha = loader.modules[\"HalfAdder\"].init()"
   ]
  },
  {
   "cell_type": "code",
   "execution_count": 5,
   "id": "c274e1c3",
   "metadata": {},
   "outputs": [
    {
     "data": {
      "text/plain": [
       "('1', '0')"
      ]
     },
     "execution_count": 5,
     "metadata": {},
     "output_type": "execute_result"
    }
   ],
   "source": [
    "ha.inputs[\"a\"].set(\"1\")\n",
    "ha.tick()\n",
    "ha.outputs[\"sum\"].evaluate(), ha.outputs[\"carry_out\"].evaluate()"
   ]
  },
  {
   "cell_type": "code",
   "execution_count": 6,
   "id": "a4dfacde",
   "metadata": {},
   "outputs": [
    {
     "data": {
      "text/plain": [
       "('0', '1')"
      ]
     },
     "execution_count": 6,
     "metadata": {},
     "output_type": "execute_result"
    }
   ],
   "source": [
    "ha.inputs[\"b\"].set(\"1\")\n",
    "ha.tick()\n",
    "ha.outputs[\"sum\"].evaluate(), ha.outputs[\"carry_out\"].evaluate()"
   ]
  },
  {
   "cell_type": "code",
   "execution_count": 7,
   "id": "86d24818",
   "metadata": {},
   "outputs": [
    {
     "data": {
      "text/plain": [
       "('0', '0')"
      ]
     },
     "execution_count": 7,
     "metadata": {},
     "output_type": "execute_result"
    }
   ],
   "source": [
    "ha.inputs[\"a\"].set(\"0\")\n",
    "ha.inputs[\"b\"].set(\"0\")\n",
    "ha.tick()\n",
    "ha.outputs[\"sum\"].evaluate(), ha.outputs[\"carry_out\"].evaluate()"
   ]
  },
  {
   "cell_type": "code",
   "execution_count": 8,
   "id": "f2576a96",
   "metadata": {},
   "outputs": [],
   "source": [
    "ct2 = loader.modules[\"Counter2\"].init()"
   ]
  },
  {
   "cell_type": "code",
   "execution_count": 9,
   "id": "c05acf69",
   "metadata": {},
   "outputs": [
    {
     "name": "stdout",
     "output_type": "stream",
     "text": [
      "0\n",
      "1\n",
      "0\n",
      "1\n",
      "0\n"
     ]
    }
   ],
   "source": [
    "ct2.inputs[\"i\"].set(\"1\")\n",
    "for i in range(5):\n",
    "    ct2.tick()\n",
    "    print(ct2.outputs[\"o\"].evaluate())"
   ]
  },
  {
   "cell_type": "code",
   "execution_count": null,
   "id": "38a783a9",
   "metadata": {},
   "outputs": [],
   "source": []
  }
 ],
 "metadata": {
  "kernelspec": {
   "display_name": "Python 3",
   "language": "python",
   "name": "python3"
  },
  "language_info": {
   "codemirror_mode": {
    "name": "ipython",
    "version": 3
   },
   "file_extension": ".py",
   "mimetype": "text/x-python",
   "name": "python",
   "nbconvert_exporter": "python",
   "pygments_lexer": "ipython3",
   "version": "3.8.8"
  }
 },
 "nbformat": 4,
 "nbformat_minor": 5
}
